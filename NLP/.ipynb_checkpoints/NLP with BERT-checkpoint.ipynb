{
 "cells": [
  {
   "cell_type": "code",
   "execution_count": 1,
   "metadata": {},
   "outputs": [
    {
     "name": "stdout",
     "output_type": "stream",
     "text": [
      "Requirement already satisfied: ktrain in c:\\users\\utente\\anaconda3\\lib\\site-packages (0.21.3)\n",
      "Requirement already satisfied: bokeh in c:\\users\\utente\\anaconda3\\lib\\site-packages (from ktrain) (2.2.1)\n",
      "Requirement already satisfied: scikit-learn>=0.21.3 in c:\\users\\utente\\anaconda3\\lib\\site-packages (from ktrain) (0.23.2)\n",
      "Requirement already satisfied: langdetect in c:\\users\\utente\\anaconda3\\lib\\site-packages (from ktrain) (1.0.8)\n",
      "Requirement already satisfied: matplotlib>=3.0.0 in c:\\users\\utente\\anaconda3\\lib\\site-packages (from ktrain) (3.3.1)\n",
      "Requirement already satisfied: joblib in c:\\users\\utente\\anaconda3\\lib\\site-packages (from ktrain) (0.16.0)\n",
      "Requirement already satisfied: whoosh in c:\\users\\utente\\anaconda3\\lib\\site-packages (from ktrain) (2.7.4)\n",
      "Requirement already satisfied: keras-bert>=0.81.0 in c:\\users\\utente\\anaconda3\\lib\\site-packages (from ktrain) (0.86.0)\n",
      "Requirement already satisfied: networkx>=2.3 in c:\\users\\utente\\anaconda3\\lib\\site-packages (from ktrain) (2.5)\n",
      "Requirement already satisfied: transformers>=3.1.0 in c:\\users\\utente\\anaconda3\\lib\\site-packages (from ktrain) (3.2.0)\n",
      "Requirement already satisfied: packaging in c:\\users\\utente\\anaconda3\\lib\\site-packages (from ktrain) (20.4)\n",
      "Requirement already satisfied: seqeval in c:\\users\\utente\\anaconda3\\lib\\site-packages (from ktrain) (0.0.12)\n",
      "Requirement already satisfied: requests in c:\\users\\utente\\anaconda3\\lib\\site-packages (from ktrain) (2.24.0)\n",
      "Requirement already satisfied: cchardet in c:\\users\\utente\\anaconda3\\lib\\site-packages (from ktrain) (2.1.6)\n",
      "Requirement already satisfied: jieba in c:\\users\\utente\\anaconda3\\lib\\site-packages (from ktrain) (0.42.1)\n",
      "Requirement already satisfied: ipython in c:\\users\\utente\\anaconda3\\lib\\site-packages (from ktrain) (7.18.1)\n",
      "Requirement already satisfied: syntok in c:\\users\\utente\\anaconda3\\lib\\site-packages (from ktrain) (1.3.1)\n",
      "Requirement already satisfied: fastprogress>=0.1.21 in c:\\users\\utente\\anaconda3\\lib\\site-packages (from ktrain) (1.0.0)\n",
      "Requirement already satisfied: pandas>=1.0.1 in c:\\users\\utente\\anaconda3\\lib\\site-packages (from ktrain) (1.1.1)\n",
      "Requirement already satisfied: python-dateutil>=2.1 in c:\\users\\utente\\anaconda3\\lib\\site-packages (from bokeh->ktrain) (2.8.1)\n",
      "Requirement already satisfied: tornado>=5.1 in c:\\users\\utente\\anaconda3\\lib\\site-packages (from bokeh->ktrain) (6.0.4)\n",
      "Requirement already satisfied: PyYAML>=3.10 in c:\\users\\utente\\anaconda3\\lib\\site-packages (from bokeh->ktrain) (5.3.1)\n",
      "Requirement already satisfied: pillow>=7.1.0 in c:\\users\\utente\\anaconda3\\lib\\site-packages (from bokeh->ktrain) (7.2.0)\n",
      "Requirement already satisfied: typing-extensions>=3.7.4 in c:\\users\\utente\\anaconda3\\lib\\site-packages (from bokeh->ktrain) (3.7.4.3)\n",
      "Requirement already satisfied: numpy>=1.11.3 in c:\\users\\utente\\anaconda3\\lib\\site-packages (from bokeh->ktrain) (1.19.1)\n",
      "Requirement already satisfied: Jinja2>=2.7 in c:\\users\\utente\\anaconda3\\lib\\site-packages (from bokeh->ktrain) (2.11.2)\n",
      "Requirement already satisfied: scipy>=0.19.1 in c:\\users\\utente\\anaconda3\\lib\\site-packages (from scikit-learn>=0.21.3->ktrain) (1.5.0)\n",
      "Requirement already satisfied: threadpoolctl>=2.0.0 in c:\\users\\utente\\anaconda3\\lib\\site-packages (from scikit-learn>=0.21.3->ktrain) (2.1.0)\n",
      "Requirement already satisfied: six in c:\\users\\utente\\anaconda3\\lib\\site-packages (from langdetect->ktrain) (1.15.0)\n",
      "Requirement already satisfied: certifi>=2020.06.20 in c:\\users\\utente\\anaconda3\\lib\\site-packages (from matplotlib>=3.0.0->ktrain) (2020.6.20)\n",
      "Requirement already satisfied: kiwisolver>=1.0.1 in c:\\users\\utente\\anaconda3\\lib\\site-packages (from matplotlib>=3.0.0->ktrain) (1.2.0)\n",
      "Requirement already satisfied: cycler>=0.10 in c:\\users\\utente\\anaconda3\\lib\\site-packages (from matplotlib>=3.0.0->ktrain) (0.10.0)\n",
      "Requirement already satisfied: pyparsing!=2.0.4,!=2.1.2,!=2.1.6,>=2.0.3 in c:\\users\\utente\\anaconda3\\lib\\site-packages (from matplotlib>=3.0.0->ktrain) (2.4.7)\n",
      "Requirement already satisfied: Keras>=2.4.3 in c:\\users\\utente\\anaconda3\\lib\\site-packages (from keras-bert>=0.81.0->ktrain) (2.4.3)\n",
      "Requirement already satisfied: keras-transformer>=0.38.0 in c:\\users\\utente\\anaconda3\\lib\\site-packages (from keras-bert>=0.81.0->ktrain) (0.38.0)\n",
      "Requirement already satisfied: decorator>=4.3.0 in c:\\users\\utente\\anaconda3\\lib\\site-packages (from networkx>=2.3->ktrain) (4.4.2)\n",
      "Requirement already satisfied: sacremoses in c:\\users\\utente\\anaconda3\\lib\\site-packages (from transformers>=3.1.0->ktrain) (0.0.43)\n",
      "Requirement already satisfied: tokenizers==0.8.1.rc2 in c:\\users\\utente\\anaconda3\\lib\\site-packages (from transformers>=3.1.0->ktrain) (0.8.1rc2)\n",
      "Requirement already satisfied: tqdm>=4.27 in c:\\users\\utente\\anaconda3\\lib\\site-packages (from transformers>=3.1.0->ktrain) (4.48.2)\n",
      "Requirement already satisfied: regex!=2019.12.17 in c:\\users\\utente\\anaconda3\\lib\\site-packages (from transformers>=3.1.0->ktrain) (2020.7.14)\n",
      "Requirement already satisfied: sentencepiece!=0.1.92 in c:\\users\\utente\\anaconda3\\lib\\site-packages (from transformers>=3.1.0->ktrain) (0.1.91)\n",
      "Requirement already satisfied: filelock in c:\\users\\utente\\anaconda3\\lib\\site-packages (from transformers>=3.1.0->ktrain) (3.0.12)\n",
      "Requirement already satisfied: idna<3,>=2.5 in c:\\users\\utente\\anaconda3\\lib\\site-packages (from requests->ktrain) (2.10)\n",
      "Requirement already satisfied: urllib3!=1.25.0,!=1.25.1,<1.26,>=1.21.1 in c:\\users\\utente\\anaconda3\\lib\\site-packages (from requests->ktrain) (1.25.10)\n",
      "Requirement already satisfied: chardet<4,>=3.0.2 in c:\\users\\utente\\anaconda3\\lib\\site-packages (from requests->ktrain) (3.0.4)\n",
      "Requirement already satisfied: colorama; sys_platform == \"win32\" in c:\\users\\utente\\anaconda3\\lib\\site-packages (from ipython->ktrain) (0.4.3)\n",
      "Requirement already satisfied: backcall in c:\\users\\utente\\anaconda3\\lib\\site-packages (from ipython->ktrain) (0.2.0)\n",
      "Requirement already satisfied: setuptools>=18.5 in c:\\users\\utente\\anaconda3\\lib\\site-packages (from ipython->ktrain) (49.6.0.post20200814)\n",
      "Requirement already satisfied: traitlets>=4.2 in c:\\users\\utente\\anaconda3\\lib\\site-packages (from ipython->ktrain) (4.3.3)\n",
      "Requirement already satisfied: pickleshare in c:\\users\\utente\\anaconda3\\lib\\site-packages (from ipython->ktrain) (0.7.5)\n",
      "Requirement already satisfied: pygments in c:\\users\\utente\\anaconda3\\lib\\site-packages (from ipython->ktrain) (2.7.1)\n",
      "Requirement already satisfied: jedi>=0.10 in c:\\users\\utente\\anaconda3\\lib\\site-packages (from ipython->ktrain) (0.17.1)\n",
      "Requirement already satisfied: prompt-toolkit!=3.0.0,!=3.0.1,<3.1.0,>=2.0.0 in c:\\users\\utente\\anaconda3\\lib\\site-packages (from ipython->ktrain) (3.0.7)\n",
      "Requirement already satisfied: pytz>=2017.2 in c:\\users\\utente\\anaconda3\\lib\\site-packages (from pandas>=1.0.1->ktrain) (2020.1)\n",
      "Requirement already satisfied: MarkupSafe>=0.23 in c:\\users\\utente\\anaconda3\\lib\\site-packages (from Jinja2>=2.7->bokeh->ktrain) (1.1.1)\n",
      "Requirement already satisfied: h5py in c:\\users\\utente\\anaconda3\\lib\\site-packages (from Keras>=2.4.3->keras-bert>=0.81.0->ktrain) (2.10.0)\n",
      "Requirement already satisfied: keras-position-wise-feed-forward>=0.6.0 in c:\\users\\utente\\anaconda3\\lib\\site-packages (from keras-transformer>=0.38.0->keras-bert>=0.81.0->ktrain) (0.6.0)\n",
      "Requirement already satisfied: keras-embed-sim>=0.8.0 in c:\\users\\utente\\anaconda3\\lib\\site-packages (from keras-transformer>=0.38.0->keras-bert>=0.81.0->ktrain) (0.8.0)\n",
      "Requirement already satisfied: keras-multi-head>=0.27.0 in c:\\users\\utente\\anaconda3\\lib\\site-packages (from keras-transformer>=0.38.0->keras-bert>=0.81.0->ktrain) (0.27.0)\n",
      "Requirement already satisfied: keras-pos-embd>=0.11.0 in c:\\users\\utente\\anaconda3\\lib\\site-packages (from keras-transformer>=0.38.0->keras-bert>=0.81.0->ktrain) (0.11.0)\n",
      "Requirement already satisfied: keras-layer-normalization>=0.14.0 in c:\\users\\utente\\anaconda3\\lib\\site-packages (from keras-transformer>=0.38.0->keras-bert>=0.81.0->ktrain) (0.14.0)\n",
      "Requirement already satisfied: click in c:\\users\\utente\\anaconda3\\lib\\site-packages (from sacremoses->transformers>=3.1.0->ktrain) (7.1.2)\n",
      "Requirement already satisfied: ipython-genutils in c:\\users\\utente\\anaconda3\\lib\\site-packages (from traitlets>=4.2->ipython->ktrain) (0.2.0)\n",
      "Requirement already satisfied: parso<0.8.0,>=0.7.0 in c:\\users\\utente\\anaconda3\\lib\\site-packages (from jedi>=0.10->ipython->ktrain) (0.7.0)\n",
      "Requirement already satisfied: wcwidth in c:\\users\\utente\\anaconda3\\lib\\site-packages (from prompt-toolkit!=3.0.0,!=3.0.1,<3.1.0,>=2.0.0->ipython->ktrain) (0.2.5)\n",
      "Requirement already satisfied: keras-self-attention==0.46.0 in c:\\users\\utente\\anaconda3\\lib\\site-packages (from keras-multi-head>=0.27.0->keras-transformer>=0.38.0->keras-bert>=0.81.0->ktrain) (0.46.0)\n"
     ]
    }
   ],
   "source": [
    "!pip3 install ktrain"
   ]
  },
  {
   "cell_type": "code",
   "execution_count": 2,
   "metadata": {},
   "outputs": [
    {
     "ename": "ModuleNotFoundError",
     "evalue": "No module named 'tensorflow'",
     "output_type": "error",
     "traceback": [
      "\u001b[1;31m---------------------------------------------------------------------------\u001b[0m",
      "\u001b[1;31mModuleNotFoundError\u001b[0m                       Traceback (most recent call last)",
      "\u001b[1;32m<ipython-input-2-8230d567da2f>\u001b[0m in \u001b[0;36m<module>\u001b[1;34m\u001b[0m\n\u001b[0;32m      1\u001b[0m \u001b[1;32mimport\u001b[0m \u001b[0mos\u001b[0m\u001b[1;33m.\u001b[0m\u001b[0mpath\u001b[0m\u001b[1;33m\u001b[0m\u001b[1;33m\u001b[0m\u001b[0m\n\u001b[0;32m      2\u001b[0m \u001b[1;32mimport\u001b[0m \u001b[0mnumpy\u001b[0m \u001b[1;32mas\u001b[0m \u001b[0mnp\u001b[0m\u001b[1;33m\u001b[0m\u001b[1;33m\u001b[0m\u001b[0m\n\u001b[1;32m----> 3\u001b[1;33m \u001b[1;32mimport\u001b[0m \u001b[0mtensorflow\u001b[0m \u001b[1;32mas\u001b[0m \u001b[0mtf\u001b[0m\u001b[1;33m\u001b[0m\u001b[1;33m\u001b[0m\u001b[0m\n\u001b[0m\u001b[0;32m      4\u001b[0m \u001b[1;32mimport\u001b[0m \u001b[0mktrain\u001b[0m\u001b[1;33m\u001b[0m\u001b[1;33m\u001b[0m\u001b[0m\n\u001b[0;32m      5\u001b[0m \u001b[1;32mfrom\u001b[0m \u001b[0mktrain\u001b[0m \u001b[1;32mimport\u001b[0m \u001b[0mtext\u001b[0m\u001b[1;33m\u001b[0m\u001b[1;33m\u001b[0m\u001b[0m\n",
      "\u001b[1;31mModuleNotFoundError\u001b[0m: No module named 'tensorflow'"
     ]
    }
   ],
   "source": [
    "import os.path\n",
    "import numpy as np\n",
    "import tensorflow as tf\n",
    "import ktrain\n",
    "from ktrain import text"
   ]
  },
  {
   "cell_type": "code",
   "execution_count": null,
   "metadata": {},
   "outputs": [],
   "source": [
    "# Data Preprocessing:"
   ]
  },
  {
   "cell_type": "code",
   "execution_count": null,
   "metadata": {},
   "outputs": [],
   "source": [
    "dataset = tf.keras.utils.get_file(fname=\"aclImdb_v1.tar.gz\",\n",
    "                                  origin=\"http://ai.stanford.edu/~amaas/data/sentiment/aclImdb_v1.tar.gz\",\n",
    "                                  extract=True)\n",
    "IMDB_DATADIR = os.path.join(os.path.dirname(dataset), 'aclImdb')"
   ]
  },
  {
   "cell_type": "code",
   "execution_count": null,
   "metadata": {},
   "outputs": [],
   "source": [
    "print(os.path.dirname(dataset))\n",
    "print(IMDB_DATADIR)"
   ]
  },
  {
   "cell_type": "code",
   "execution_count": 3,
   "metadata": {},
   "outputs": [],
   "source": [
    "### Creating the training and test sets"
   ]
  },
  {
   "cell_type": "code",
   "execution_count": 4,
   "metadata": {},
   "outputs": [
    {
     "ename": "NameError",
     "evalue": "name 'text' is not defined",
     "output_type": "error",
     "traceback": [
      "\u001b[1;31m---------------------------------------------------------------------------\u001b[0m",
      "\u001b[1;31mNameError\u001b[0m                                 Traceback (most recent call last)",
      "\u001b[1;32m<ipython-input-4-6b5a40ff7a6a>\u001b[0m in \u001b[0;36m<module>\u001b[1;34m\u001b[0m\n\u001b[1;32m----> 1\u001b[1;33m (x_train, y_train), (x_test, y_test), preproc = text.texts_from_folder(datadir=IMDB_DATADIR,\n\u001b[0m\u001b[0;32m      2\u001b[0m                                                                        \u001b[0mclasses\u001b[0m\u001b[1;33m=\u001b[0m\u001b[1;33m[\u001b[0m\u001b[1;34m'pos'\u001b[0m\u001b[1;33m,\u001b[0m\u001b[1;34m'neg'\u001b[0m\u001b[1;33m]\u001b[0m\u001b[1;33m,\u001b[0m\u001b[1;33m\u001b[0m\u001b[1;33m\u001b[0m\u001b[0m\n\u001b[0;32m      3\u001b[0m                                                                        \u001b[0mmaxlen\u001b[0m\u001b[1;33m=\u001b[0m\u001b[1;36m500\u001b[0m\u001b[1;33m,\u001b[0m\u001b[1;33m\u001b[0m\u001b[1;33m\u001b[0m\u001b[0m\n\u001b[0;32m      4\u001b[0m                                                                        \u001b[0mtrain_test_names\u001b[0m\u001b[1;33m=\u001b[0m\u001b[1;33m[\u001b[0m\u001b[1;34m'train'\u001b[0m\u001b[1;33m,\u001b[0m\u001b[1;34m'test'\u001b[0m\u001b[1;33m]\u001b[0m\u001b[1;33m,\u001b[0m\u001b[1;33m\u001b[0m\u001b[1;33m\u001b[0m\u001b[0m\n\u001b[0;32m      5\u001b[0m                                                                        preprocess_mode='bert')\n",
      "\u001b[1;31mNameError\u001b[0m: name 'text' is not defined"
     ]
    }
   ],
   "source": [
    "(x_train, y_train), (x_test, y_test), preproc = text.texts_from_folder(datadir=IMDB_DATADIR,\n",
    "                                                                       classes=['pos','neg'],\n",
    "                                                                       maxlen=500,\n",
    "                                                                       train_test_names=['train','test'],\n",
    "                                                                       preprocess_mode='bert')"
   ]
  },
  {
   "cell_type": "code",
   "execution_count": 5,
   "metadata": {},
   "outputs": [],
   "source": [
    "## Building the BERT Model"
   ]
  },
  {
   "cell_type": "code",
   "execution_count": null,
   "metadata": {},
   "outputs": [],
   "source": [
    "model = text.text_classifier(name='bert',\n",
    "                             train_data=(x_train, y_train),\n",
    "                             preproc=preproc)"
   ]
  },
  {
   "cell_type": "code",
   "execution_count": 6,
   "metadata": {},
   "outputs": [],
   "source": [
    "## Training the BERT model"
   ]
  },
  {
   "cell_type": "code",
   "execution_count": null,
   "metadata": {},
   "outputs": [],
   "source": [
    "learner = ktrain.get_learner(model=model,\n",
    "                             train_data=(x_train, y_train),\n",
    "                             val_data=(x_test, y_test),\n",
    "                             batch_size=6)"
   ]
  },
  {
   "cell_type": "code",
   "execution_count": null,
   "metadata": {},
   "outputs": [],
   "source": [
    "learner.fit_onecycle(lr=2e-5,\n",
    "                     epochs=1)"
   ]
  },
  {
   "cell_type": "code",
   "execution_count": null,
   "metadata": {},
   "outputs": [],
   "source": []
  }
 ],
 "metadata": {
  "kernelspec": {
   "display_name": "Python 3",
   "language": "python",
   "name": "python3"
  },
  "language_info": {
   "codemirror_mode": {
    "name": "ipython",
    "version": 3
   },
   "file_extension": ".py",
   "mimetype": "text/x-python",
   "name": "python",
   "nbconvert_exporter": "python",
   "pygments_lexer": "ipython3",
   "version": "3.8.5"
  }
 },
 "nbformat": 4,
 "nbformat_minor": 4
}
